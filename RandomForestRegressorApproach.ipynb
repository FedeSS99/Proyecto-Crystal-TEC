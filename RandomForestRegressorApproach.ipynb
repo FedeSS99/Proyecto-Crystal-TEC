{
 "cells": [
  {
   "attachments": {},
   "cell_type": "markdown",
   "metadata": {},
   "source": [
    "# Applying a Random Forest model for regression"
   ]
  },
  {
   "cell_type": "code",
   "execution_count": 1,
   "metadata": {},
   "outputs": [],
   "source": [
    "from tqdm import tqdm\n",
    "\n",
    "import pandas as pd\n",
    "import matplotlib.pyplot as plt\n",
    "\n",
    "from sklearn.ensemble import RandomForestRegressor\n",
    "from sklearn.model_selection import train_test_split\n",
    "\n",
    "from sklearn.metrics import r2_score, mean_squared_error, mean_absolute_error, PredictionErrorDisplay"
   ]
  },
  {
   "attachments": {},
   "cell_type": "markdown",
   "metadata": {},
   "source": [
    "## Reading data"
   ]
  },
  {
   "cell_type": "code",
   "execution_count": 2,
   "metadata": {},
   "outputs": [
    {
     "data": {
      "text/html": [
       "<div>\n",
       "<style scoped>\n",
       "    .dataframe tbody tr th:only-of-type {\n",
       "        vertical-align: middle;\n",
       "    }\n",
       "\n",
       "    .dataframe tbody tr th {\n",
       "        vertical-align: top;\n",
       "    }\n",
       "\n",
       "    .dataframe thead th {\n",
       "        text-align: right;\n",
       "    }\n",
       "</style>\n",
       "<table border=\"1\" class=\"dataframe\">\n",
       "  <thead>\n",
       "    <tr style=\"text-align: right;\">\n",
       "      <th></th>\n",
       "      <th>racePctAsian</th>\n",
       "      <th>indianPerCap</th>\n",
       "      <th>PctEmplProfServ</th>\n",
       "      <th>PctOccupMgmtProf</th>\n",
       "      <th>PctKids2Par</th>\n",
       "      <th>PctWorkMom</th>\n",
       "      <th>PctImmigRec5</th>\n",
       "      <th>PctRecImmig10</th>\n",
       "      <th>PctHousOwnOcc</th>\n",
       "      <th>PctHousNoPhone</th>\n",
       "      <th>PctWOFullPlumb</th>\n",
       "      <th>OwnOccHiQuart</th>\n",
       "      <th>RentHighQ</th>\n",
       "      <th>PctForeignBorn</th>\n",
       "      <th>PctSameCity85</th>\n",
       "      <th>PctUsePubTrans</th>\n",
       "      <th>ViolentCrimesPerPop</th>\n",
       "    </tr>\n",
       "  </thead>\n",
       "  <tbody>\n",
       "    <tr>\n",
       "      <th>0</th>\n",
       "      <td>0.049218</td>\n",
       "      <td>0.103804</td>\n",
       "      <td>0.149219</td>\n",
       "      <td>0.181844</td>\n",
       "      <td>0.201397</td>\n",
       "      <td>0.245513</td>\n",
       "      <td>0.103804</td>\n",
       "      <td>0.033424</td>\n",
       "      <td>0.181844</td>\n",
       "      <td>0.056905</td>\n",
       "      <td>0.025306</td>\n",
       "      <td>0.071882</td>\n",
       "      <td>0.139879</td>\n",
       "      <td>0.049218</td>\n",
       "      <td>0.178977</td>\n",
       "      <td>0.079181</td>\n",
       "      <td>0.079181</td>\n",
       "    </tr>\n",
       "    <tr>\n",
       "      <th>1</th>\n",
       "      <td>0.161368</td>\n",
       "      <td>0.064458</td>\n",
       "      <td>0.060698</td>\n",
       "      <td>0.133539</td>\n",
       "      <td>0.167317</td>\n",
       "      <td>0.184691</td>\n",
       "      <td>0.209515</td>\n",
       "      <td>0.089905</td>\n",
       "      <td>0.093422</td>\n",
       "      <td>0.064458</td>\n",
       "      <td>0.000000</td>\n",
       "      <td>0.082785</td>\n",
       "      <td>0.146128</td>\n",
       "      <td>0.082785</td>\n",
       "      <td>0.204120</td>\n",
       "      <td>0.161368</td>\n",
       "      <td>0.222716</td>\n",
       "    </tr>\n",
       "    <tr>\n",
       "      <th>2</th>\n",
       "      <td>0.068186</td>\n",
       "      <td>0.029384</td>\n",
       "      <td>0.110590</td>\n",
       "      <td>0.120574</td>\n",
       "      <td>0.158362</td>\n",
       "      <td>0.222716</td>\n",
       "      <td>0.025306</td>\n",
       "      <td>0.021189</td>\n",
       "      <td>0.149219</td>\n",
       "      <td>0.167317</td>\n",
       "      <td>0.161368</td>\n",
       "      <td>0.064458</td>\n",
       "      <td>0.103804</td>\n",
       "      <td>0.056905</td>\n",
       "      <td>0.222716</td>\n",
       "      <td>0.008600</td>\n",
       "      <td>0.155336</td>\n",
       "    </tr>\n",
       "    <tr>\n",
       "      <th>3</th>\n",
       "      <td>0.049218</td>\n",
       "      <td>0.064458</td>\n",
       "      <td>0.161368</td>\n",
       "      <td>0.143015</td>\n",
       "      <td>0.187521</td>\n",
       "      <td>0.269513</td>\n",
       "      <td>0.079181</td>\n",
       "      <td>0.045323</td>\n",
       "      <td>0.292256</td>\n",
       "      <td>0.045323</td>\n",
       "      <td>0.045323</td>\n",
       "      <td>0.075547</td>\n",
       "      <td>0.247973</td>\n",
       "      <td>0.075547</td>\n",
       "      <td>0.214844</td>\n",
       "      <td>0.107210</td>\n",
       "      <td>0.049218</td>\n",
       "    </tr>\n",
       "    <tr>\n",
       "      <th>4</th>\n",
       "      <td>0.037426</td>\n",
       "      <td>0.000000</td>\n",
       "      <td>0.139879</td>\n",
       "      <td>0.164353</td>\n",
       "      <td>0.281033</td>\n",
       "      <td>0.204120</td>\n",
       "      <td>0.029384</td>\n",
       "      <td>0.021189</td>\n",
       "      <td>0.271842</td>\n",
       "      <td>0.021189</td>\n",
       "      <td>0.056905</td>\n",
       "      <td>0.113943</td>\n",
       "      <td>0.139879</td>\n",
       "      <td>0.045323</td>\n",
       "      <td>0.206826</td>\n",
       "      <td>0.008600</td>\n",
       "      <td>0.012837</td>\n",
       "    </tr>\n",
       "    <tr>\n",
       "      <th>...</th>\n",
       "      <td>...</td>\n",
       "      <td>...</td>\n",
       "      <td>...</td>\n",
       "      <td>...</td>\n",
       "      <td>...</td>\n",
       "      <td>...</td>\n",
       "      <td>...</td>\n",
       "      <td>...</td>\n",
       "      <td>...</td>\n",
       "      <td>...</td>\n",
       "      <td>...</td>\n",
       "      <td>...</td>\n",
       "      <td>...</td>\n",
       "      <td>...</td>\n",
       "      <td>...</td>\n",
       "      <td>...</td>\n",
       "      <td>...</td>\n",
       "    </tr>\n",
       "    <tr>\n",
       "      <th>1989</th>\n",
       "      <td>0.049218</td>\n",
       "      <td>0.000000</td>\n",
       "      <td>0.225309</td>\n",
       "      <td>0.230449</td>\n",
       "      <td>0.225309</td>\n",
       "      <td>0.238046</td>\n",
       "      <td>0.149219</td>\n",
       "      <td>0.071882</td>\n",
       "      <td>0.190332</td>\n",
       "      <td>0.029384</td>\n",
       "      <td>0.037426</td>\n",
       "      <td>0.103804</td>\n",
       "      <td>0.149219</td>\n",
       "      <td>0.086360</td>\n",
       "      <td>0.170262</td>\n",
       "      <td>0.021189</td>\n",
       "      <td>0.037426</td>\n",
       "    </tr>\n",
       "    <tr>\n",
       "      <th>1990</th>\n",
       "      <td>0.262451</td>\n",
       "      <td>0.071882</td>\n",
       "      <td>0.149219</td>\n",
       "      <td>0.093422</td>\n",
       "      <td>0.212188</td>\n",
       "      <td>0.146128</td>\n",
       "      <td>0.209515</td>\n",
       "      <td>0.206826</td>\n",
       "      <td>0.086360</td>\n",
       "      <td>0.068186</td>\n",
       "      <td>0.136721</td>\n",
       "      <td>0.133539</td>\n",
       "      <td>0.206826</td>\n",
       "      <td>0.184691</td>\n",
       "      <td>0.041393</td>\n",
       "      <td>0.079181</td>\n",
       "      <td>0.161368</td>\n",
       "    </tr>\n",
       "    <tr>\n",
       "      <th>1991</th>\n",
       "      <td>0.017033</td>\n",
       "      <td>0.075547</td>\n",
       "      <td>0.146128</td>\n",
       "      <td>0.120574</td>\n",
       "      <td>0.152288</td>\n",
       "      <td>0.164353</td>\n",
       "      <td>0.068186</td>\n",
       "      <td>0.049218</td>\n",
       "      <td>0.136721</td>\n",
       "      <td>0.117271</td>\n",
       "      <td>0.110590</td>\n",
       "      <td>0.110590</td>\n",
       "      <td>0.143015</td>\n",
       "      <td>0.096910</td>\n",
       "      <td>0.252853</td>\n",
       "      <td>0.071882</td>\n",
       "      <td>0.089905</td>\n",
       "    </tr>\n",
       "    <tr>\n",
       "      <th>1992</th>\n",
       "      <td>0.086360</td>\n",
       "      <td>0.079181</td>\n",
       "      <td>0.195900</td>\n",
       "      <td>0.170262</td>\n",
       "      <td>0.217484</td>\n",
       "      <td>0.212188</td>\n",
       "      <td>0.164353</td>\n",
       "      <td>0.139879</td>\n",
       "      <td>0.123852</td>\n",
       "      <td>0.041393</td>\n",
       "      <td>0.127105</td>\n",
       "      <td>0.167317</td>\n",
       "      <td>0.243038</td>\n",
       "      <td>0.161368</td>\n",
       "      <td>0.201397</td>\n",
       "      <td>0.123852</td>\n",
       "      <td>0.075547</td>\n",
       "    </tr>\n",
       "    <tr>\n",
       "      <th>1993</th>\n",
       "      <td>0.093422</td>\n",
       "      <td>0.086360</td>\n",
       "      <td>0.079181</td>\n",
       "      <td>0.093422</td>\n",
       "      <td>0.201397</td>\n",
       "      <td>0.130334</td>\n",
       "      <td>0.181844</td>\n",
       "      <td>0.243038</td>\n",
       "      <td>0.173186</td>\n",
       "      <td>0.120574</td>\n",
       "      <td>0.082785</td>\n",
       "      <td>0.120574</td>\n",
       "      <td>0.206826</td>\n",
       "      <td>0.225309</td>\n",
       "      <td>0.130334</td>\n",
       "      <td>0.021189</td>\n",
       "      <td>0.170262</td>\n",
       "    </tr>\n",
       "  </tbody>\n",
       "</table>\n",
       "<p>1994 rows × 17 columns</p>\n",
       "</div>"
      ],
      "text/plain": [
       "      racePctAsian  indianPerCap  PctEmplProfServ  PctOccupMgmtProf  \\\n",
       "0         0.049218      0.103804         0.149219          0.181844   \n",
       "1         0.161368      0.064458         0.060698          0.133539   \n",
       "2         0.068186      0.029384         0.110590          0.120574   \n",
       "3         0.049218      0.064458         0.161368          0.143015   \n",
       "4         0.037426      0.000000         0.139879          0.164353   \n",
       "...            ...           ...              ...               ...   \n",
       "1989      0.049218      0.000000         0.225309          0.230449   \n",
       "1990      0.262451      0.071882         0.149219          0.093422   \n",
       "1991      0.017033      0.075547         0.146128          0.120574   \n",
       "1992      0.086360      0.079181         0.195900          0.170262   \n",
       "1993      0.093422      0.086360         0.079181          0.093422   \n",
       "\n",
       "      PctKids2Par  PctWorkMom  PctImmigRec5  PctRecImmig10  PctHousOwnOcc  \\\n",
       "0        0.201397    0.245513      0.103804       0.033424       0.181844   \n",
       "1        0.167317    0.184691      0.209515       0.089905       0.093422   \n",
       "2        0.158362    0.222716      0.025306       0.021189       0.149219   \n",
       "3        0.187521    0.269513      0.079181       0.045323       0.292256   \n",
       "4        0.281033    0.204120      0.029384       0.021189       0.271842   \n",
       "...           ...         ...           ...            ...            ...   \n",
       "1989     0.225309    0.238046      0.149219       0.071882       0.190332   \n",
       "1990     0.212188    0.146128      0.209515       0.206826       0.086360   \n",
       "1991     0.152288    0.164353      0.068186       0.049218       0.136721   \n",
       "1992     0.217484    0.212188      0.164353       0.139879       0.123852   \n",
       "1993     0.201397    0.130334      0.181844       0.243038       0.173186   \n",
       "\n",
       "      PctHousNoPhone  PctWOFullPlumb  OwnOccHiQuart  RentHighQ  \\\n",
       "0           0.056905        0.025306       0.071882   0.139879   \n",
       "1           0.064458        0.000000       0.082785   0.146128   \n",
       "2           0.167317        0.161368       0.064458   0.103804   \n",
       "3           0.045323        0.045323       0.075547   0.247973   \n",
       "4           0.021189        0.056905       0.113943   0.139879   \n",
       "...              ...             ...            ...        ...   \n",
       "1989        0.029384        0.037426       0.103804   0.149219   \n",
       "1990        0.068186        0.136721       0.133539   0.206826   \n",
       "1991        0.117271        0.110590       0.110590   0.143015   \n",
       "1992        0.041393        0.127105       0.167317   0.243038   \n",
       "1993        0.120574        0.082785       0.120574   0.206826   \n",
       "\n",
       "      PctForeignBorn  PctSameCity85  PctUsePubTrans  ViolentCrimesPerPop  \n",
       "0           0.049218       0.178977        0.079181             0.079181  \n",
       "1           0.082785       0.204120        0.161368             0.222716  \n",
       "2           0.056905       0.222716        0.008600             0.155336  \n",
       "3           0.075547       0.214844        0.107210             0.049218  \n",
       "4           0.045323       0.206826        0.008600             0.012837  \n",
       "...              ...            ...             ...                  ...  \n",
       "1989        0.086360       0.170262        0.021189             0.037426  \n",
       "1990        0.184691       0.041393        0.079181             0.161368  \n",
       "1991        0.096910       0.252853        0.071882             0.089905  \n",
       "1992        0.161368       0.201397        0.123852             0.075547  \n",
       "1993        0.225309       0.130334        0.021189             0.170262  \n",
       "\n",
       "[1994 rows x 17 columns]"
      ]
     },
     "execution_count": 2,
     "metadata": {},
     "output_type": "execute_result"
    }
   ],
   "source": [
    "DATA = pd.read_csv(\"Log_FinalData.csv\", index_col=\"Unnamed: 0\")\n",
    "DATA"
   ]
  },
  {
   "attachments": {},
   "cell_type": "markdown",
   "metadata": {},
   "source": [
    "## Creating test and train sets for model fitting"
   ]
  },
  {
   "cell_type": "code",
   "execution_count": 3,
   "metadata": {},
   "outputs": [
    {
     "data": {
      "text/plain": [
       "(23925, 5985)"
      ]
     },
     "execution_count": 3,
     "metadata": {},
     "output_type": "execute_result"
    }
   ],
   "source": [
    "X = DATA.loc[:, DATA.columns[:-2]]\n",
    "Y = DATA.loc[:, DATA.columns[-1]]\n",
    "\n",
    "X_train, X_test, Y_train, Y_test = train_test_split(X, Y, test_size=0.2, random_state=21)\n",
    "X_train.size, X_test.size"
   ]
  },
  {
   "attachments": {},
   "cell_type": "markdown",
   "metadata": {},
   "source": [
    "## Defining the optimum Random Forest Regressor\n",
    "The optimization will be made by changing the number of samples per Split and Leaf, the max number of levels for\n",
    "the depth for the trees of the Forest and the number of Decision Trees"
   ]
  },
  {
   "cell_type": "code",
   "execution_count": 4,
   "metadata": {},
   "outputs": [
    {
     "name": "stderr",
     "output_type": "stream",
     "text": [
      "100%|██████████| 7600/7600 [37:34<00:00,  2.16it/s]"
     ]
    },
    {
     "name": "stdout",
     "output_type": "stream",
     "text": [
      "MinEstim=55\n",
      "MinSampleLeaf=10\n",
      "MinSampleSplit=1\n",
      "MinR2=0.6318606960465505\n"
     ]
    }
   ],
   "source": [
    "Results_Nums_SplitLeaf = []\n",
    "MinR2 = 0.0\n",
    "Range_Leaf_Split = range(1, 21)\n",
    "Range_Estimators = range(10, 101, 5)\n",
    "\n",
    "ProgressBar = tqdm(total = (len(Range_Leaf_Split)**2)*len(Range_Estimators))\n",
    "\n",
    "for NumEstim in Range_Estimators:\n",
    "    for numSplit in Range_Leaf_Split:\n",
    "        for numLeaf in Range_Leaf_Split:\n",
    "            RF_Regressor = RandomForestRegressor(n_estimators=NumEstim, min_samples_split=numSplit,\n",
    "                                                     min_samples_leaf=numLeaf, random_state = 42, n_jobs = -1)\n",
    "            RF_Regressor.fit(X_train, Y_train)\n",
    "            Y_hat = RF_Regressor.predict(X_test)\n",
    "            R2_Score = r2_score(Y_test, Y_hat)\n",
    "\n",
    "            ProgressBar.update(1)            \n",
    "            if R2_Score > MinR2:\n",
    "                MinR2 = R2_Score\n",
    "                MinSampleSplit = numSplit\n",
    "                MinSampleLeaf = numLeaf\n",
    "                MinEstim = NumEstim\n",
    "\n",
    "print(f\"{MinEstim=}\")\n",
    "print(f\"{MinSampleLeaf=}\")\n",
    "print(f\"{MinSampleSplit=}\")\n",
    "print(f\"{MinR2=}\")"
   ]
  },
  {
   "attachments": {},
   "cell_type": "markdown",
   "metadata": {},
   "source": [
    "## Using optimal number of samples for leafs and splits and number of estimators"
   ]
  },
  {
   "cell_type": "code",
   "execution_count": 9,
   "metadata": {},
   "outputs": [],
   "source": [
    "# Picking optimal values\n",
    "MinEstim = 55\n",
    "MinSampleLeaf = 10\n",
    "MinSampleSplit = 1\n",
    "\n",
    "RF_Regressor = RandomForestRegressor(n_estimators=MinEstim, min_samples_split=MinSampleSplit,\n",
    "                                    min_samples_leaf=MinSampleLeaf, random_state = 42, n_jobs = -1)\n",
    "RF_Regressor.fit(X_train, Y_train)\n",
    "Y_hat = RF_Regressor.predict(X_test)"
   ]
  },
  {
   "attachments": {},
   "cell_type": "markdown",
   "metadata": {},
   "source": [
    "## Obtaining scores for Random Forest model"
   ]
  },
  {
   "cell_type": "code",
   "execution_count": 10,
   "metadata": {},
   "outputs": [
    {
     "name": "stdout",
     "output_type": "stream",
     "text": [
      "MS2_E=0.0018367476681208994 \n",
      "MA_E=0.03117546518934828 \n",
      "R2=0.6318606960465505 \n"
     ]
    }
   ],
   "source": [
    "MS2_E = mean_squared_error(Y_test, Y_hat)\n",
    "MA_E = mean_absolute_error(Y_test, Y_hat)\n",
    "R2 = r2_score(Y_test, Y_hat)\n",
    "\n",
    "print(f\"{MS2_E=} \")\n",
    "print(f\"{MA_E=} \")\n",
    "print(f\"{R2=} \")"
   ]
  },
  {
   "attachments": {},
   "cell_type": "markdown",
   "metadata": {},
   "source": [
    "## Visualize Prediction-Error plot"
   ]
  },
  {
   "cell_type": "code",
   "execution_count": 11,
   "metadata": {},
   "outputs": [
    {
     "data": {
      "text/plain": [
       "<sklearn.metrics._plot.regression.PredictionErrorDisplay at 0x7fb25c143290>"
      ]
     },
     "execution_count": 11,
     "metadata": {},
     "output_type": "execute_result"
    },
    {
     "data": {
      "image/png": "[encoded data removed]",
      "text/plain": [
       "<Figure size 640x480 with 1 Axes>"
      ]
     },
     "metadata": {},
     "output_type": "display_data"
    }
   ],
   "source": [
    "PredictionErrorDisplay.from_predictions(y_true=Y_test, y_pred=Y_hat, kind=\"actual_vs_predicted\",\n",
    "                       scatter_kwargs={\"alpha\":0.35, \"color\":\"tab:blue\"},\n",
    "                       line_kwargs={\"color\":\"tab:red\"})"
   ]
  }
 ],
 "metadata": {
  "kernelspec": {
   "display_name": "Python 3",
   "language": "python",
   "name": "python3"
  },
  "language_info": {
   "codemirror_mode": {
    "name": "ipython",
    "version": 3
   },
   "file_extension": ".py",
   "mimetype": "text/x-python",
   "name": "python",
   "nbconvert_exporter": "python",
   "pygments_lexer": "ipython3",
   "version": "3.11.2"
  },
  "orig_nbformat": 4,
  "vscode": {
   "interpreter": {
    "hash": "e7370f93d1d0cde622a1f8e1c04877d8463912d04d973331ad4851f04de6915a"
   }
  }
 },
 "nbformat": 4,
 "nbformat_minor": 2
}
